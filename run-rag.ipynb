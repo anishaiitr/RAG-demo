{
 "cells": [
  {
   "cell_type": "code",
   "execution_count": 2,
   "metadata": {},
   "outputs": [],
   "source": [
    "import promptflow"
   ]
  },
  {
   "cell_type": "code",
   "execution_count": 3,
   "metadata": {},
   "outputs": [
    {
     "name": "stderr",
     "output_type": "stream",
     "text": [
      "WARNING:root:'from promptflow import PFClient' is deprecated and will be removed in the future. Use 'from promptflow.client import PFClient' instead.\n"
     ]
    }
   ],
   "source": [
    "pf = promptflow.PFClient()"
   ]
  },
  {
   "cell_type": "code",
   "execution_count": 11,
   "metadata": {},
   "outputs": [
    {
     "name": "stdout",
     "output_type": "stream",
     "text": [
      "Prompt flow service has started...\n",
      "2024-05-18 22:32:33 +0800   32254 execution.flow     INFO     Start executing nodes in thread pool mode.\n",
      "2024-05-18 22:32:33 +0800   32254 execution.flow     INFO     Start to run 1 nodes with concurrency level 16.\n",
      "2024-05-18 22:32:33 +0800   32254 execution.flow     INFO     Executing node python_node_rag. node run id: 73f41eb3-ed6d-47f5-acd2-a3de31329b04_python_node_rag_0\n",
      "2024-05-18 22:32:33 +0800   32254 execution.flow     INFO     [python_node_rag in line 0 (index starts from 0)] stdout> index created\n",
      "2024-05-18 22:32:33 +0800   32254 execution.flow     INFO     [python_node_rag in line 0 (index starts from 0)] stdout> Loading index\n",
      "2024-05-18 22:32:35 +0800   32254 execution          WARNING  [python_node_rag in line 0 (index starts from 0)] stderr> /Users/anisha/Documents/assignments/Prudential-RAG/.venv/lib/python3.8/site-packages/huggingface_hub/file_download.py:1132: FutureWarning: `resume_download` is deprecated and will be removed in version 1.0.0. Downloads always resume when possible. If you want to force a new download, use `force_download=True`.\n",
      "  warnings.warn(\n",
      "2024-05-18 22:32:36 +0800   32254 execution.flow     INFO     [python_node_rag in line 0 (index starts from 0)] stdout> Loaded index\n"
     ]
    },
    {
     "name": "stderr",
     "output_type": "stream",
     "text": [
      "WARNING:langchain_community.llms.huggingface_endpoint:WARNING! token is not default parameter.\n",
      "                    token was transferred to model_kwargs.\n",
      "                    Please make sure that token is what you intended.\n"
     ]
    },
    {
     "name": "stdout",
     "output_type": "stream",
     "text": [
      "2024-05-18 22:32:36 +0800   32254 execution.flow     INFO     [python_node_rag in line 0 (index starts from 0)] stdout> The token has not been saved to the git credentials helper. Pass `add_to_git_credential=True` in this function directly or `--add-to-git-credential` if using via `huggingface-cli` if you want to set the git credential as well.\n",
      "2024-05-18 22:32:36 +0800   32254 execution.flow     INFO     [python_node_rag in line 0 (index starts from 0)] stdout> Token is valid (permission: write).\n",
      "2024-05-18 22:32:36 +0800   32254 execution.flow     INFO     [python_node_rag in line 0 (index starts from 0)] stdout> Your token has been saved to /Users/anisha/.cache/huggingface/token\n",
      "2024-05-18 22:32:36 +0800   32254 execution.flow     INFO     [python_node_rag in line 0 (index starts from 0)] stdout> Login successful\n",
      "2024-05-18 22:32:37 +0800   32254 execution.flow     INFO     [python_node_rag in line 0 (index starts from 0)] stdout> {'context': [Document(page_content='PRU Health Critical Illness  \\nFirst Protect II\\nAffordable, in-depth critical illness cover for your  \\neveryday life with protection against 74 disease conditions\\nCritical Illness Protection', metadata={'source': 'data/pruhealth-critical-illness-first-protect-ii-product-brochure.pdf', 'page': 0}), Document(page_content='PRU Health Critical Illness  \\nExtended Care III\\nContinuous cover for ongoing critical illness –  \\nwith lump-sum financial support for cancer every year,  \\nup to a total of 660% cover while it persists\\nCritical Illness Protection \\nHong Kong Edition', metadata={'source': 'data/pruhealth-critical-illness-extended-care-iii-product-brochure.pdf', 'page': 0}), Document(page_content='2Having the peace of mind from knowing that you and your family’s finances are \\nprotected from critical illness is invaluable. PRU Health Critical Illness First Protect II  \\nprovides whole-life, lump-sum cover against the financial impact of  \\n74 disease conditions. With affordable premiums over a limited period, the plan \\ngives you in-depth cover. It also pays a benefit if you have to stay in an intensive \\ncare unit (ICU) for health issues beyond critical illnesses, including infectious \\ndiseases and injuries.\\nPlan highlightsPRU Health Critical Illness First Protect II \\n$ $74\\ndisease \\nconditions\\nValue-added service to enhance your protection \\nGet back to the road to  \\nhealth with personalised \\nmedical advice from over \\n50,000 global medical experts \\nin 450+ specialties Covers early stage major \\ndisease conditions,  \\nincluding Carcinoma-in-situProtection and long-term \\nsavings in one planPremium waiver of  \\n12 months after  \\nan early stage major \\ndisease claimIntensive Care Benefit –  \\nup to 20% cover for 3 or more \\nconsecutive days’ stay in an ICU \\nbecause of health issues beyond \\ncritical illnesses, including infectious \\ndiseases and injuriesProtects your finances \\nagainst 74 disease \\nconditions50% extra protection for  \\na major disease claim or \\ndeath claim within  \\nthe first 10 years\\nCombat inflation with  \\nour Benefit Protector Option+50%\\n10yr', metadata={'source': 'data/pruhealth-critical-illness-first-protect-ii-product-brochure.pdf', 'page': 1}), Document(page_content='15Benefit Protector Option\\n• You can only take out the Benefit Protector Option  \\nfor standard rate policies of  \\nPRU Health Critical Illness First Protect II with  \\na premium term of 15, 20, 25 or 30 years upon  \\nthe plan application. It is also subject to our \\nadministration guidelines.\\n• By paying extra premiums, you can automatically \\nincrease your protection by 5% of the initial sum assured \\nevery year, up to 200% of the initial sum assured.\\n• We will calculate the additional premiums you need to \\npay for increasing your sum assured of  \\nPRU Health Critical Illness First Protect II each year  \\nbased on the attained age, gender and latest smoking \\nstatus of the life assured and the remaining  \\npremium term.\\n• Any additional sum assured derived from  \\nthe Benefit Protector Option will not apply when  \\nwe calculate the current sum assured of  \\nCritical Illness First Enhancer II .\\n• You cannot take out this Benefit Protector Option if \\nyour PRU Health Critical Illness First Protect II is being \\nconverted from another plan. \\nWe will stop increasing your sum assured when the first of \\nthese happens: \\n• you decline 2 consecutive increases in your  \\nsum assured; or\\n• on the policy anniversary immediately following the  \\nlife assured’s age 61 (ANB); or\\n• your PRU Health Critical Illness First Protect II’s premium \\nterm has less than 10 years to run; or\\n• the current sum assured has reached the maximum limit \\nwe set; or\\n• you reduce your sum assured; or\\n• there is a premium waiver benefit claim, total and \\npermanent disability claim or a claim for any kind of \\nmajor disease benefit (including but not limited to Early \\nStage Major Disease Benefit and Major Disease Benefit) \\nor Intensive Care Benefit under all policies the life assured \\nhas with us; or \\n• your PRU Health Critical Illness First Protect II terminates.Termination of this plan\\nWe will terminate this plan when the first of these happens:\\n• death of the life assured; or\\n• once you surrender the policy; or\\n• if you fail to pay your premium within the grace period of  \\n1 calendar month from its due date and the net \\ncash value of the policy is insufficient to exercise the \\nautomatic premium loan; or\\n• once we pay (or once it is confirmed that we will pay)  \\nthe Major Disease Benefit; or\\n• once outstanding loans and interest are more than  \\n90% of the guaranteed cash value of your plan minus \\nthe total claimed amount for Early Stage Major Disease \\nBenefit and Intensive Care Benefit.', metadata={'source': 'data/pruhealth-critical-illness-first-protect-ii-product-brochure.pdf', 'page': 14})], 'question': 'what are the differences between Pru health critical illness extended care and first protector', 'text': \" Based on the context provided in the documents, here are the key differences between PRU Health Critical Illness First Protect II and Extended Care III:\\n\\n1. Coverage for ongoing critical illness: Extended Care III provides continuous cover for ongoing critical illness, while First Protect II does not.\\n2. Lump-sum financial support for cancer: Extended Care III offers lump-sum financial support for cancer every year, up to a total of 660% cover while it persists, while First Protect II does not mention this feature.\\n3. Premiums: The documents do not provide information about the premiums for Extended Care III, so it is unclear how they compare to First Protect II.\\n4. Disease conditions covered: First Protect II covers 74 disease conditions, while Extended Care III does not mention a specific number of disease conditions covered.\\n5. Intensive Care Benefit: First Protect II offers an Intensive Care Benefit for up to 20% cover for 3 or more consecutive days' stay in an ICU because of health issues beyond critical illnesses, while Extended Care III does not mention this benefit.\\n6. Additional protection: First Protect II offers 50% extra protection for a major disease claim or death claim within the first 10 years, while Extended Care III does not mention any similar feature.\\n7. Benefit Protector Option: First Protect II offers the Benefit Protector Option, which allows policyholders to increase their protection by 5% of the initial sum assured every year, up to 200% of the initial sum assured. Extended Care III does not mention this option.\\n8. Termination: Both plans can be terminated under certain circumstances, such as death of the life assured, surrender of the policy, or failure to pay premiums. However, the documents do not provide detailed information about the termination provisions for Extended Care III.\"}\n",
      "2024-05-18 22:32:37 +0800   32254 execution.flow     INFO     Node python_node_rag completes.\n",
      " Based on the context provided in the documents, here are the key differences between PRU Health Critical Illness First Protect II and Extended Care III:\n",
      "\n",
      "1. Coverage for ongoing critical illness: Extended Care III provides continuous cover for ongoing critical illness, while First Protect II does not.\n",
      "2. Lump-sum financial support for cancer: Extended Care III offers lump-sum financial support for cancer every year, up to a total of 660% cover while it persists, while First Protect II does not mention this feature.\n",
      "3. Premiums: The documents do not provide information about the premiums for Extended Care III, so it is unclear how they compare to First Protect II.\n",
      "4. Disease conditions covered: First Protect II covers 74 disease conditions, while Extended Care III does not mention a specific number of disease conditions covered.\n",
      "5. Intensive Care Benefit: First Protect II offers an Intensive Care Benefit for up to 20% cover for 3 or more consecutive days' stay in an ICU because of health issues beyond critical illnesses, while Extended Care III does not mention this benefit.\n",
      "6. Additional protection: First Protect II offers 50% extra protection for a major disease claim or death claim within the first 10 years, while Extended Care III does not mention any similar feature.\n",
      "7. Benefit Protector Option: First Protect II offers the Benefit Protector Option, which allows policyholders to increase their protection by 5% of the initial sum assured every year, up to 200% of the initial sum assured. Extended Care III does not mention this option.\n",
      "8. Termination: Both plans can be terminated under certain circumstances, such as death of the life assured, surrender of the policy, or failure to pay premiums. However, the documents do not provide detailed information about the termination provisions for Extended Care III.\n"
     ]
    }
   ],
   "source": [
    "output = pf.flows.test(\n",
    "    \".\",\n",
    "    inputs={\n",
    "        \"query\": \"what are the differences between Pru health critical illness extended care and first protector\",\n",
    "    },\n",
    ")\n",
    "print(output['response'])"
   ]
  },
  {
   "cell_type": "code",
   "execution_count": 4,
   "metadata": {},
   "outputs": [
    {
     "name": "stderr",
     "output_type": "stream",
     "text": [
      "huggingface/tokenizers: The current process just got forked, after parallelism has already been used. Disabling parallelism to avoid deadlocks...\n",
      "To disable this warning, you can either:\n",
      "\t- Avoid using `tokenizers` before the fork if possible\n",
      "\t- Explicitly set the environment variable TOKENIZERS_PARALLELISM=(true | false)\n"
     ]
    },
    {
     "name": "stdout",
     "output_type": "stream",
     "text": [
      "Collecting streamlit\n",
      "  Downloading streamlit-1.34.0-py2.py3-none-any.whl.metadata (8.5 kB)\n",
      "Collecting altair<6,>=4.0 (from streamlit)\n",
      "  Downloading altair-5.3.0-py3-none-any.whl.metadata (9.2 kB)\n",
      "Requirement already satisfied: blinker<2,>=1.0.0 in /Users/anisha/Documents/assignments/Prudential-RAG/.venv/lib/python3.8/site-packages (from streamlit) (1.8.2)\n",
      "Requirement already satisfied: cachetools<6,>=4.0 in /Users/anisha/Documents/assignments/Prudential-RAG/.venv/lib/python3.8/site-packages (from streamlit) (5.3.3)\n",
      "Requirement already satisfied: click<9,>=7.0 in /Users/anisha/Documents/assignments/Prudential-RAG/.venv/lib/python3.8/site-packages (from streamlit) (8.1.7)\n",
      "Requirement already satisfied: numpy<2,>=1.19.3 in /Users/anisha/Documents/assignments/Prudential-RAG/.venv/lib/python3.8/site-packages (from streamlit) (1.24.4)\n",
      "Requirement already satisfied: packaging<25,>=16.8 in /Users/anisha/Documents/assignments/Prudential-RAG/.venv/lib/python3.8/site-packages (from streamlit) (23.2)\n",
      "Requirement already satisfied: pandas<3,>=1.3.0 in /Users/anisha/Documents/assignments/Prudential-RAG/.venv/lib/python3.8/site-packages (from streamlit) (2.0.3)\n",
      "Requirement already satisfied: pillow<11,>=7.1.0 in /Users/anisha/Documents/assignments/Prudential-RAG/.venv/lib/python3.8/site-packages (from streamlit) (10.3.0)\n",
      "Requirement already satisfied: protobuf<5,>=3.20 in /Users/anisha/Documents/assignments/Prudential-RAG/.venv/lib/python3.8/site-packages (from streamlit) (4.25.3)\n",
      "Collecting pyarrow>=7.0 (from streamlit)\n",
      "  Downloading pyarrow-16.1.0-cp38-cp38-macosx_10_15_x86_64.whl.metadata (3.0 kB)\n",
      "Requirement already satisfied: requests<3,>=2.27 in /Users/anisha/Documents/assignments/Prudential-RAG/.venv/lib/python3.8/site-packages (from streamlit) (2.31.0)\n",
      "Requirement already satisfied: rich<14,>=10.14.0 in /Users/anisha/Documents/assignments/Prudential-RAG/.venv/lib/python3.8/site-packages (from streamlit) (13.7.1)\n",
      "Requirement already satisfied: tenacity<9,>=8.1.0 in /Users/anisha/Documents/assignments/Prudential-RAG/.venv/lib/python3.8/site-packages (from streamlit) (8.3.0)\n",
      "Collecting toml<2,>=0.10.1 (from streamlit)\n",
      "  Downloading toml-0.10.2-py2.py3-none-any.whl.metadata (7.1 kB)\n",
      "Requirement already satisfied: typing-extensions<5,>=4.3.0 in /Users/anisha/Documents/assignments/Prudential-RAG/.venv/lib/python3.8/site-packages (from streamlit) (4.11.0)\n",
      "Requirement already satisfied: gitpython!=3.1.19,<4,>=3.0.7 in /Users/anisha/Documents/assignments/Prudential-RAG/.venv/lib/python3.8/site-packages (from streamlit) (3.1.43)\n",
      "Collecting pydeck<1,>=0.8.0b4 (from streamlit)\n",
      "  Downloading pydeck-0.9.1-py2.py3-none-any.whl.metadata (4.1 kB)\n",
      "Requirement already satisfied: tornado<7,>=6.0.3 in /Users/anisha/Documents/assignments/Prudential-RAG/.venv/lib/python3.8/site-packages (from streamlit) (6.4)\n",
      "Requirement already satisfied: jinja2 in /Users/anisha/Documents/assignments/Prudential-RAG/.venv/lib/python3.8/site-packages (from altair<6,>=4.0->streamlit) (3.1.4)\n",
      "Requirement already satisfied: jsonschema>=3.0 in /Users/anisha/Documents/assignments/Prudential-RAG/.venv/lib/python3.8/site-packages (from altair<6,>=4.0->streamlit) (4.22.0)\n",
      "Collecting toolz (from altair<6,>=4.0->streamlit)\n",
      "  Downloading toolz-0.12.1-py3-none-any.whl.metadata (5.1 kB)\n",
      "Requirement already satisfied: gitdb<5,>=4.0.1 in /Users/anisha/Documents/assignments/Prudential-RAG/.venv/lib/python3.8/site-packages (from gitpython!=3.1.19,<4,>=3.0.7->streamlit) (4.0.11)\n",
      "Requirement already satisfied: python-dateutil>=2.8.2 in /Users/anisha/Documents/assignments/Prudential-RAG/.venv/lib/python3.8/site-packages (from pandas<3,>=1.3.0->streamlit) (2.9.0.post0)\n",
      "Requirement already satisfied: pytz>=2020.1 in /Users/anisha/Documents/assignments/Prudential-RAG/.venv/lib/python3.8/site-packages (from pandas<3,>=1.3.0->streamlit) (2024.1)\n",
      "Requirement already satisfied: tzdata>=2022.1 in /Users/anisha/Documents/assignments/Prudential-RAG/.venv/lib/python3.8/site-packages (from pandas<3,>=1.3.0->streamlit) (2024.1)\n",
      "Requirement already satisfied: charset-normalizer<4,>=2 in /Users/anisha/Documents/assignments/Prudential-RAG/.venv/lib/python3.8/site-packages (from requests<3,>=2.27->streamlit) (3.3.2)\n",
      "Requirement already satisfied: idna<4,>=2.5 in /Users/anisha/Documents/assignments/Prudential-RAG/.venv/lib/python3.8/site-packages (from requests<3,>=2.27->streamlit) (3.7)\n",
      "Requirement already satisfied: urllib3<3,>=1.21.1 in /Users/anisha/Documents/assignments/Prudential-RAG/.venv/lib/python3.8/site-packages (from requests<3,>=2.27->streamlit) (2.2.1)\n",
      "Requirement already satisfied: certifi>=2017.4.17 in /Users/anisha/Documents/assignments/Prudential-RAG/.venv/lib/python3.8/site-packages (from requests<3,>=2.27->streamlit) (2024.2.2)\n",
      "Requirement already satisfied: markdown-it-py>=2.2.0 in /Users/anisha/Documents/assignments/Prudential-RAG/.venv/lib/python3.8/site-packages (from rich<14,>=10.14.0->streamlit) (3.0.0)\n",
      "Requirement already satisfied: pygments<3.0.0,>=2.13.0 in /Users/anisha/Documents/assignments/Prudential-RAG/.venv/lib/python3.8/site-packages (from rich<14,>=10.14.0->streamlit) (2.18.0)\n",
      "Requirement already satisfied: smmap<6,>=3.0.1 in /Users/anisha/Documents/assignments/Prudential-RAG/.venv/lib/python3.8/site-packages (from gitdb<5,>=4.0.1->gitpython!=3.1.19,<4,>=3.0.7->streamlit) (5.0.1)\n",
      "Requirement already satisfied: MarkupSafe>=2.0 in /Users/anisha/Documents/assignments/Prudential-RAG/.venv/lib/python3.8/site-packages (from jinja2->altair<6,>=4.0->streamlit) (2.1.5)\n",
      "Requirement already satisfied: attrs>=22.2.0 in /Users/anisha/Documents/assignments/Prudential-RAG/.venv/lib/python3.8/site-packages (from jsonschema>=3.0->altair<6,>=4.0->streamlit) (23.2.0)\n",
      "Requirement already satisfied: importlib-resources>=1.4.0 in /Users/anisha/Documents/assignments/Prudential-RAG/.venv/lib/python3.8/site-packages (from jsonschema>=3.0->altair<6,>=4.0->streamlit) (6.4.0)\n",
      "Requirement already satisfied: jsonschema-specifications>=2023.03.6 in /Users/anisha/Documents/assignments/Prudential-RAG/.venv/lib/python3.8/site-packages (from jsonschema>=3.0->altair<6,>=4.0->streamlit) (2023.12.1)\n",
      "Requirement already satisfied: pkgutil-resolve-name>=1.3.10 in /Users/anisha/Documents/assignments/Prudential-RAG/.venv/lib/python3.8/site-packages (from jsonschema>=3.0->altair<6,>=4.0->streamlit) (1.3.10)\n",
      "Requirement already satisfied: referencing>=0.28.4 in /Users/anisha/Documents/assignments/Prudential-RAG/.venv/lib/python3.8/site-packages (from jsonschema>=3.0->altair<6,>=4.0->streamlit) (0.35.1)\n",
      "Requirement already satisfied: rpds-py>=0.7.1 in /Users/anisha/Documents/assignments/Prudential-RAG/.venv/lib/python3.8/site-packages (from jsonschema>=3.0->altair<6,>=4.0->streamlit) (0.18.1)\n",
      "Requirement already satisfied: mdurl~=0.1 in /Users/anisha/Documents/assignments/Prudential-RAG/.venv/lib/python3.8/site-packages (from markdown-it-py>=2.2.0->rich<14,>=10.14.0->streamlit) (0.1.2)\n",
      "Requirement already satisfied: six>=1.5 in /Users/anisha/Documents/assignments/Prudential-RAG/.venv/lib/python3.8/site-packages (from python-dateutil>=2.8.2->pandas<3,>=1.3.0->streamlit) (1.16.0)\n",
      "Requirement already satisfied: zipp>=3.1.0 in /Users/anisha/Documents/assignments/Prudential-RAG/.venv/lib/python3.8/site-packages (from importlib-resources>=1.4.0->jsonschema>=3.0->altair<6,>=4.0->streamlit) (3.18.2)\n",
      "Downloading streamlit-1.34.0-py2.py3-none-any.whl (8.5 MB)\n",
      "\u001b[2K   \u001b[90m━━━━━━━━━━━━━━━━━━━━━━━━━━━━━━━━━━━━━━━━\u001b[0m \u001b[32m8.5/8.5 MB\u001b[0m \u001b[31m10.3 MB/s\u001b[0m eta \u001b[36m0:00:00\u001b[0m00:01\u001b[0m00:01\u001b[0m\n",
      "\u001b[?25hDownloading altair-5.3.0-py3-none-any.whl (857 kB)\n",
      "\u001b[2K   \u001b[90m━━━━━━━━━━━━━━━━━━━━━━━━━━━━━━━━━━━━━━━━\u001b[0m \u001b[32m857.8/857.8 kB\u001b[0m \u001b[31m6.4 MB/s\u001b[0m eta \u001b[36m0:00:00\u001b[0m00:01\u001b[0m00:01\u001b[0m\n",
      "\u001b[?25hDownloading pyarrow-16.1.0-cp38-cp38-macosx_10_15_x86_64.whl (28.3 MB)\n",
      "\u001b[2K   \u001b[90m━━━━━━━━━━━━━━━━━━━━━━━━━━━━━━━━━━━━━━━━\u001b[0m \u001b[32m28.3/28.3 MB\u001b[0m \u001b[31m11.0 MB/s\u001b[0m eta \u001b[36m0:00:00\u001b[0m00:01\u001b[0m00:01\u001b[0m\n",
      "\u001b[?25hDownloading pydeck-0.9.1-py2.py3-none-any.whl (6.9 MB)\n",
      "\u001b[2K   \u001b[90m━━━━━━━━━━━━━━━━━━━━━━━━━━━━━━━━━━━━━━━━\u001b[0m \u001b[32m6.9/6.9 MB\u001b[0m \u001b[31m11.4 MB/s\u001b[0m eta \u001b[36m0:00:00\u001b[0m00:01\u001b[0m00:01\u001b[0m\n",
      "\u001b[?25hDownloading toml-0.10.2-py2.py3-none-any.whl (16 kB)\n",
      "Downloading toolz-0.12.1-py3-none-any.whl (56 kB)\n",
      "\u001b[2K   \u001b[90m━━━━━━━━━━━━━━━━━━━━━━━━━━━━━━━━━━━━━━━━\u001b[0m \u001b[32m56.1/56.1 kB\u001b[0m \u001b[31m1.2 MB/s\u001b[0m eta \u001b[36m0:00:00\u001b[0ma \u001b[36m0:00:01\u001b[0m\n",
      "\u001b[?25hInstalling collected packages: toolz, toml, pyarrow, pydeck, altair, streamlit\n",
      "Successfully installed altair-5.3.0 pyarrow-16.1.0 pydeck-0.9.1 streamlit-1.34.0 toml-0.10.2 toolz-0.12.1\n"
     ]
    }
   ],
   "source": [
    "!pip install streamlit"
   ]
  },
  {
   "cell_type": "code",
   "execution_count": 4,
   "metadata": {},
   "outputs": [],
   "source": [
    "import streamlit as st"
   ]
  },
  {
   "cell_type": "code",
   "execution_count": 5,
   "metadata": {},
   "outputs": [
    {
     "name": "stderr",
     "output_type": "stream",
     "text": [
      "2024-05-18 21:50:13.730 \n",
      "  \u001b[33m\u001b[1mWarning:\u001b[0m to view this Streamlit app on a browser, run it with the following\n",
      "  command:\n",
      "\n",
      "    streamlit run /Users/anisha/Documents/assignments/Prudential-RAG/.venv/lib/python3.8/site-packages/ipykernel_launcher.py [ARGUMENTS]\n"
     ]
    },
    {
     "data": {
      "text/plain": [
       "DeltaGenerator()"
      ]
     },
     "execution_count": 5,
     "metadata": {},
     "output_type": "execute_result"
    }
   ],
   "source": [
    "st.title(\"Azure Prompt Flow Chat Interface\")"
   ]
  },
  {
   "cell_type": "code",
   "execution_count": 6,
   "metadata": {},
   "outputs": [
    {
     "name": "stderr",
     "output_type": "stream",
     "text": [
      "2024-05-18 21:50:16.635 Session state does not function when running a script without `streamlit run`\n"
     ]
    }
   ],
   "source": [
    "title = st.text_input(\"Movie title\")"
   ]
  },
  {
   "cell_type": "code",
   "execution_count": 7,
   "metadata": {},
   "outputs": [],
   "source": [
    "if title:\n",
    "    output = pf.flows.test(\n",
    "        \".\",\n",
    "        inputs={\n",
    "            \"query\": \"title\",\n",
    "        },\n",
    "    )\n",
    "    st.write(output)"
   ]
  },
  {
   "cell_type": "code",
   "execution_count": 9,
   "metadata": {},
   "outputs": [
    {
     "name": "stdout",
     "output_type": "stream",
     "text": [
      "\n",
      "      👋 \u001b[1mWelcome to Streamlit!\u001b[0m\n",
      "\n",
      "      If you’d like to receive helpful onboarding emails, news, offers, promotions,\n",
      "      and the occasional swag, please enter your email address below. Otherwise,\n",
      "      leave this field blank.\n",
      "\n",
      "      \u001b[34mEmail: \u001b[0m ^C\n",
      "2024-05-18 21:51:09.504 \n"
     ]
    }
   ],
   "source": [
    "!streamlit run /Users/anisha/Documents/assignments/Prudential-RAG/.venv/lib/python3.8/site-packages/ipykernel_launcher.py"
   ]
  },
  {
   "cell_type": "code",
   "execution_count": null,
   "metadata": {},
   "outputs": [],
   "source": []
  }
 ],
 "metadata": {
  "kernelspec": {
   "display_name": ".venv",
   "language": "python",
   "name": "python3"
  },
  "language_info": {
   "codemirror_mode": {
    "name": "ipython",
    "version": 3
   },
   "file_extension": ".py",
   "mimetype": "text/x-python",
   "name": "python",
   "nbconvert_exporter": "python",
   "pygments_lexer": "ipython3",
   "version": "3.8.6"
  }
 },
 "nbformat": 4,
 "nbformat_minor": 2
}
